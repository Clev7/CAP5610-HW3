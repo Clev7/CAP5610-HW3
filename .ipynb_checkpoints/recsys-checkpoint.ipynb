{
 "cells": [
  {
   "cell_type": "code",
   "execution_count": 68,
   "id": "6f3afdbf",
   "metadata": {},
   "outputs": [],
   "source": [
    "from surprise import Reader, Dataset, KNNBasic, accuracy, SVD\n",
    "from surprise.model_selection import KFold\n",
    "from surprise.model_selection.validation import cross_validate\n",
    "import pandas as pd\n",
    "import os"
   ]
  },
  {
   "cell_type": "code",
   "execution_count": 69,
   "id": "06f44d43",
   "metadata": {
    "scrolled": true
   },
   "outputs": [],
   "source": [
    "# read in data\n",
    "ratings_df = pd.read_csv('./archive/ratings_small.csv')\n",
    "reader = Reader(rating_scale=(1, 5))\n",
    "data = Dataset.load_from_df(ratings_df[['userId', 'movieId', 'rating']], reader)"
   ]
  },
  {
   "cell_type": "code",
   "execution_count": 70,
   "id": "1deb7d0f",
   "metadata": {},
   "outputs": [
    {
     "name": "stdout",
     "output_type": "stream",
     "text": [
      "Computing the msd similarity matrix...\n",
      "Done computing similarity matrix.\n",
      "RMSE: 0.9792\n",
      "Computing the msd similarity matrix...\n",
      "Done computing similarity matrix.\n",
      "RMSE: 0.9679\n",
      "Computing the msd similarity matrix...\n",
      "Done computing similarity matrix.\n",
      "RMSE: 0.9639\n",
      "Computing the msd similarity matrix...\n",
      "Done computing similarity matrix.\n",
      "RMSE: 0.9540\n",
      "Computing the msd similarity matrix...\n",
      "Done computing similarity matrix.\n",
      "RMSE: 0.9774\n"
     ]
    }
   ],
   "source": [
    "# perform 5-fold cross-validation using KNNBasic\n",
    "kf = KFold(n_splits=5)\n",
    "algo = KNNBasic()\n",
    "for trainset, testset in kf.split(data):\n",
    "    algo.fit(trainset)\n",
    "    predictions = algo.test(testset)\n",
    "    accuracy.rmse(predictions, verbose=True)"
   ]
  },
  {
   "cell_type": "code",
   "execution_count": 80,
   "id": "58ce4ddc",
   "metadata": {},
   "outputs": [
    {
     "name": "stdout",
     "output_type": "stream",
     "text": [
      "RMSE Mean Accuracy: 1.0084536797587038\n",
      "MAE Mean Accuracy: 0.7790472175239379\n"
     ]
    }
   ],
   "source": [
    "# unbiased SVD leads to PMF\n",
    "algo = SVD(biased=False)\n",
    "\n",
    "# cross_validate() uses n-fold cross-validation based on what's passed\n",
    "# to cv\n",
    "cv = cross_validate(algo, data, measures=['rmse', 'mae'], cv=5)\n",
    "rmse_mean = cv[\"test_rmse\"].mean()\n",
    "mae_mean = cv[\"test_mae\"].mean()\n",
    "print(f'RMSE Mean Accuracy: {rmse_mean}')\n",
    "print(f'MAE Mean Accuracy: {mae_mean}')"
   ]
  },
  {
   "cell_type": "code",
   "execution_count": 91,
   "id": "3dc8ac71",
   "metadata": {},
   "outputs": [
    {
     "name": "stdout",
     "output_type": "stream",
     "text": [
      "Computing the msd similarity matrix...\n",
      "Done computing similarity matrix.\n",
      "Computing the msd similarity matrix...\n",
      "Done computing similarity matrix.\n",
      "Computing the msd similarity matrix...\n",
      "Done computing similarity matrix.\n",
      "Computing the msd similarity matrix...\n",
      "Done computing similarity matrix.\n",
      "Computing the msd similarity matrix...\n",
      "Done computing similarity matrix.\n",
      "RMSE Mean Accuracy: 0.9672628841460229\n",
      "MAE Mean Accuracy: 0.74393910466787\n"
     ]
    }
   ],
   "source": [
    "# user-based collaborative filtering\n",
    "# using MSD similarity\n",
    "sim_options = {\n",
    "    \"name\": \"MSD\",\n",
    "    \"user_based\": True\n",
    "}\n",
    "algo = KNNBasic(sim_optons=sim_options)\n",
    "cv = cross_validate(algo, data, measures=['rmse', 'mae'], cv=5)\n",
    "rmse_mean = cv[\"test_rmse\"].mean()\n",
    "mae_mean = cv[\"test_mae\"].mean()\n",
    "print(f'RMSE Mean Accuracy: {rmse_mean}')\n",
    "print(f'MAE Mean Accuracy: {mae_mean}')"
   ]
  },
  {
   "cell_type": "code",
   "execution_count": 92,
   "id": "4346e2d4",
   "metadata": {},
   "outputs": [
    {
     "name": "stdout",
     "output_type": "stream",
     "text": [
      "Computing the msd similarity matrix...\n",
      "Done computing similarity matrix.\n",
      "Computing the msd similarity matrix...\n",
      "Done computing similarity matrix.\n",
      "Computing the msd similarity matrix...\n",
      "Done computing similarity matrix.\n",
      "Computing the msd similarity matrix...\n",
      "Done computing similarity matrix.\n",
      "Computing the msd similarity matrix...\n",
      "Done computing similarity matrix.\n",
      "RMSE Mean Accuracy: 0.9678243379727766\n",
      "MAE Mean Accuracy: 0.7440532085961062\n"
     ]
    }
   ],
   "source": [
    "# user-based collaborative filtering\n",
    "# using cosine similarity\n",
    "sim_options = {\n",
    "    \"name\": \"cosine\",\n",
    "    \"user_based\": True\n",
    "}\n",
    "algo = KNNBasic(sim_optons=sim_options)\n",
    "cv = cross_validate(algo, data, measures=['rmse', 'mae'], cv=5)\n",
    "rmse_mean = cv[\"test_rmse\"].mean()\n",
    "mae_mean = cv[\"test_mae\"].mean()\n",
    "print(f'RMSE Mean Accuracy: {rmse_mean}')\n",
    "print(f'MAE Mean Accuracy: {mae_mean}')"
   ]
  },
  {
   "cell_type": "code",
   "execution_count": 93,
   "id": "171ccce3",
   "metadata": {},
   "outputs": [
    {
     "name": "stdout",
     "output_type": "stream",
     "text": [
      "Computing the msd similarity matrix...\n",
      "Done computing similarity matrix.\n",
      "Computing the msd similarity matrix...\n",
      "Done computing similarity matrix.\n",
      "Computing the msd similarity matrix...\n",
      "Done computing similarity matrix.\n",
      "Computing the msd similarity matrix...\n",
      "Done computing similarity matrix.\n",
      "Computing the msd similarity matrix...\n",
      "Done computing similarity matrix.\n",
      "RMSE Mean Accuracy: 0.9670517665931964\n",
      "MAE Mean Accuracy: 0.7438789048639068\n"
     ]
    }
   ],
   "source": [
    "# user based collaborative filtering\n",
    "# using pearson similarity\n",
    "sim_options = {\n",
    "    \"name\": \"pearson\",\n",
    "    \"user_based\": True\n",
    "}\n",
    "algo = KNNBasic(sim_optons=sim_options)\n",
    "cv = cross_validate(algo, data, measures=['rmse', 'mae'], cv=5)\n",
    "rmse_mean = cv[\"test_rmse\"].mean()\n",
    "mae_mean = cv[\"test_mae\"].mean()\n",
    "print(f'RMSE Mean Accuracy: {rmse_mean}')\n",
    "print(f'MAE Mean Accuracy: {mae_mean}')"
   ]
  },
  {
   "cell_type": "code",
   "execution_count": 94,
   "id": "384a4a0c",
   "metadata": {},
   "outputs": [
    {
     "name": "stdout",
     "output_type": "stream",
     "text": [
      "Computing the msd similarity matrix...\n",
      "Done computing similarity matrix.\n",
      "Computing the msd similarity matrix...\n",
      "Done computing similarity matrix.\n",
      "Computing the msd similarity matrix...\n",
      "Done computing similarity matrix.\n",
      "Computing the msd similarity matrix...\n",
      "Done computing similarity matrix.\n",
      "Computing the msd similarity matrix...\n",
      "Done computing similarity matrix.\n",
      "RMSE Mean Accuracy: 0.9667711278504632\n",
      "MAE Mean Accuracy: 0.7433348437771021\n"
     ]
    }
   ],
   "source": [
    "# item-based collaborative filtering\n",
    "# using MSD\n",
    "sim_options = {\n",
    "    \"name\": \"MSD\",\n",
    "    \"user_based\": False\n",
    "}\n",
    "algo = KNNBasic(sim_optons=sim_options)\n",
    "cv = cross_validate(algo, data, measures=['rmse', 'mae'], cv=5)\n",
    "rmse_mean = cv[\"test_rmse\"].mean()\n",
    "mae_mean = cv[\"test_mae\"].mean()\n",
    "print(f'RMSE Mean Accuracy: {rmse_mean}')\n",
    "print(f'MAE Mean Accuracy: {mae_mean}')"
   ]
  },
  {
   "cell_type": "code",
   "execution_count": 95,
   "id": "2fb5d484",
   "metadata": {},
   "outputs": [
    {
     "name": "stdout",
     "output_type": "stream",
     "text": [
      "Computing the msd similarity matrix...\n",
      "Done computing similarity matrix.\n",
      "Computing the msd similarity matrix...\n",
      "Done computing similarity matrix.\n",
      "Computing the msd similarity matrix...\n",
      "Done computing similarity matrix.\n",
      "Computing the msd similarity matrix...\n",
      "Done computing similarity matrix.\n",
      "Computing the msd similarity matrix...\n",
      "Done computing similarity matrix.\n",
      "RMSE Mean Accuracy: 0.9683757085875271\n",
      "MAE Mean Accuracy: 0.7443034956169591\n"
     ]
    }
   ],
   "source": [
    "# Item-based collaborative filteirng\n",
    "# using cosine similarity\n",
    "sim_options = {\n",
    "    \"name\": \"cosine\",\n",
    "    \"user_based\": False\n",
    "}\n",
    "algo = KNNBasic(sim_optons=sim_options)\n",
    "cv = cross_validate(algo, data, measures=['rmse', 'mae'], cv=5)\n",
    "rmse_mean = cv[\"test_rmse\"].mean()\n",
    "mae_mean = cv[\"test_mae\"].mean()\n",
    "print(f'RMSE Mean Accuracy: {rmse_mean}')\n",
    "print(f'MAE Mean Accuracy: {mae_mean}')"
   ]
  },
  {
   "cell_type": "code",
   "execution_count": 97,
   "id": "15b123da",
   "metadata": {},
   "outputs": [
    {
     "name": "stdout",
     "output_type": "stream",
     "text": [
      "Computing the msd similarity matrix...\n",
      "Done computing similarity matrix.\n",
      "Computing the msd similarity matrix...\n",
      "Done computing similarity matrix.\n",
      "Computing the msd similarity matrix...\n",
      "Done computing similarity matrix.\n",
      "Computing the msd similarity matrix...\n",
      "Done computing similarity matrix.\n",
      "Computing the msd similarity matrix...\n",
      "Done computing similarity matrix.\n",
      "RMSE Mean Accuracy: 0.9676482405729999\n",
      "MAE Mean Accuracy: 0.7441223069203552\n"
     ]
    }
   ],
   "source": [
    "# Item-base collaborative filtering\n",
    "# using pearson similarity\n",
    "sim_options = {\n",
    "    \"name\": \"pearson\",\n",
    "    \"user_based\": False\n",
    "}\n",
    "algo = KNNBasic(sim_optons=sim_options)\n",
    "cv = cross_validate(algo, data, measures=['rmse', 'mae'], cv=5)\n",
    "rmse_mean = cv[\"test_rmse\"].mean()\n",
    "mae_mean = cv[\"test_mae\"].mean()\n",
    "print(f'RMSE Mean Accuracy: {rmse_mean}')\n",
    "print(f'MAE Mean Accuracy: {mae_mean}')"
   ]
  },
  {
   "cell_type": "code",
   "execution_count": 99,
   "id": "e2d203a6",
   "metadata": {
    "scrolled": true
   },
   "outputs": [
    {
     "ename": "IndentationError",
     "evalue": "expected an indented block (3048962533.py, line 8)",
     "output_type": "error",
     "traceback": [
      "\u001b[0;36m  Cell \u001b[0;32mIn [99], line 8\u001b[0;36m\u001b[0m\n\u001b[0;31m    \u001b[0m\n\u001b[0m    ^\u001b[0m\n\u001b[0;31mIndentationError\u001b[0m\u001b[0;31m:\u001b[0m expected an indented block\n"
     ]
    }
   ],
   "source": [
    "# Plotting Mean RMSE Accuracy and MAE Mean Accuracy\n",
    "# using different values of k for user-based\n",
    "# collaborative filtering.\n",
    "sim_options = {\n",
    "    \"user_based\": True\n",
    "}\n",
    "k_vals = [k for k in range(5, 45, 5)]\n",
    "rmse_means = []\n",
    "mae_means = []\n",
    "for k in k_vals:\n",
    "    algo = KNNBasic(k=k, sim_options=sim_options)\n",
    "    cv = cross_validate(algo, data, measures=['rmse', 'mae'], cv=5)\n",
    "    rmse_mean = cv[\"\"]"
   ]
  }
 ],
 "metadata": {
  "kernelspec": {
   "display_name": "Python 3 (ipykernel)",
   "language": "python",
   "name": "python3"
  },
  "language_info": {
   "codemirror_mode": {
    "name": "ipython",
    "version": 3
   },
   "file_extension": ".py",
   "mimetype": "text/x-python",
   "name": "python",
   "nbconvert_exporter": "python",
   "pygments_lexer": "ipython3",
   "version": "3.9.2"
  }
 },
 "nbformat": 4,
 "nbformat_minor": 5
}
