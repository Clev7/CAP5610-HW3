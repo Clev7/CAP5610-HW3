{
 "cells": [
  {
   "cell_type": "code",
   "execution_count": 1,
   "id": "ec362e14",
   "metadata": {},
   "outputs": [],
   "source": [
    "import numpy as np\n",
    "from numpy import genfromtxt\n",
    "from math import sqrt\n",
    "import random"
   ]
  },
  {
   "cell_type": "code",
   "execution_count": 2,
   "id": "0e3061fe",
   "metadata": {},
   "outputs": [],
   "source": [
    "dataset = genfromtxt('kmeans_data/data.csv', delimiter=',')\n",
    "labels = genfromtxt('kmeans_data/label.csv', delimiter=',')"
   ]
  },
  {
   "cell_type": "code",
   "execution_count": 3,
   "id": "b05cac31",
   "metadata": {},
   "outputs": [],
   "source": [
    "class Point():\n",
    "    def __init__(self, features, label):\n",
    "        self.features = features\n",
    "        self.label = label"
   ]
  },
  {
   "cell_type": "code",
   "execution_count": 4,
   "id": "5edb01a2",
   "metadata": {},
   "outputs": [],
   "source": [
    "points = np.array([Point(dataset[i], labels[i]) for i in range(len(dataset))])"
   ]
  },
  {
   "cell_type": "code",
   "execution_count": 5,
   "id": "e67664a3",
   "metadata": {
    "scrolled": true
   },
   "outputs": [
    {
     "data": {
      "text/plain": [
       "(14, 21, 0.6666666666666666)"
      ]
     },
     "execution_count": 5,
     "metadata": {},
     "output_type": "execute_result"
    }
   ],
   "source": [
    "a = np.array([1, 2, 6, 6])\n",
    "b = np.array([4, 5, 5, 6])\n",
    "less = np.sum(a[a <= b]) + np.sum(b[b < a])\n",
    "more = np.sum(a[a >= b]) + np.sum(b[b > a])\n",
    "less, more, less / more"
   ]
  },
  {
   "cell_type": "code",
   "execution_count": 6,
   "id": "ff936ac3",
   "metadata": {},
   "outputs": [],
   "source": [
    "def euclidean_dist(a, b):\n",
    "    return sqrt(np.sum((a - b) * (a - b)))\n",
    "def cosine_dist(a, b):\n",
    "    num = np.dot(a, b)\n",
    "    denom = sqrt(np.dot(a, a)) * sqrt(np.dot(b, b))\n",
    "    return  1 - (num / denom)\n",
    "def jaccard_dist(a, b):\n",
    "    less = np.sum(a[a <= b]) + np.sum(b[b < a])\n",
    "    more = np.sum(a[a >= b]) + np.sum(b[b > a])\n",
    "    return 1 - (less / more)"
   ]
  },
  {
   "cell_type": "code",
   "execution_count": 7,
   "id": "a341bcaf",
   "metadata": {},
   "outputs": [],
   "source": [
    "def sse_dist(a, b):\n",
    "    return np.sum((a - b) * (a - b))\n",
    "def compute_sse(clusters, centroids):\n",
    "    # Safeguards against the first iteration\n",
    "    if centroids.shape[0] == 0:\n",
    "        return float(\"inf\")\n",
    "    result = 0\n",
    "    for i in range(len(centroids)):\n",
    "        centroid = centroids[i]\n",
    "        cluster = clusters[i]\n",
    "        for point in cluster:\n",
    "            result += sse_dist(point.features, centroid)\n",
    "    return result"
   ]
  },
  {
   "cell_type": "code",
   "execution_count": 8,
   "id": "f3209ce4",
   "metadata": {},
   "outputs": [],
   "source": [
    "def get_accuracy(clusters):\n",
    "    num_correct = 0\n",
    "    total = 0\n",
    "    for cluster in clusters:\n",
    "        total += len(cluster)\n",
    "        freq = {}\n",
    "        for point in cluster:\n",
    "            if point.label not in freq:\n",
    "                freq[point.label] = 1\n",
    "            else:\n",
    "                freq[point.label] += 1\n",
    "        max_freq = 0\n",
    "        for key in freq.keys():\n",
    "            max_freq = max(max_freq, freq[key])\n",
    "        num_correct += max_freq\n",
    "    return num_correct / total"
   ]
  },
  {
   "cell_type": "code",
   "execution_count": 9,
   "id": "a8113e23",
   "metadata": {},
   "outputs": [],
   "source": [
    "def converged(condition, centroids, prevCentroids, **kwargs):\n",
    "    print(f'condition = {condition}')\n",
    "    # skips the first iteration\n",
    "    if kwargs[\"iteration\"] == 0:\n",
    "        print(f'early termination')\n",
    "        return False\n",
    "    elif condition == \"no_change\":\n",
    "        return np.array_equal(prevCentroids, centroids)\n",
    "    elif condition == \"sse_increased\":\n",
    "        clusters = kwargs[\"clusters\"]\n",
    "        return compute_sse(clusters, centroids) > compute_sse(clusters, prevCentroids)\n",
    "    elif condition == \"preset\":\n",
    "        print(f'iteration = {iteration} limit = {limit}')\n",
    "        return kwargs[\"iteration\"] >= kwargs[\"preset\"]\n",
    "    elif condition == \"all\":\n",
    "        no_change = np.array_equal(prevCentroids, centroids)\n",
    "        if no_change:\n",
    "            return True\n",
    "        clusters = kwargs[\"clusters\"]\n",
    "        sse_increased = compute_sse(clusters, centroids) > compute_sse(clusters, prevCentroids)\n",
    "        if sse_increased:\n",
    "            return True\n",
    "        preset = (kwargs[\"iteration\"] >= kwargs[\"limit\"])\n",
    "        return preset"
   ]
  },
  {
   "cell_type": "code",
   "execution_count": 12,
   "id": "d11d7cb4",
   "metadata": {},
   "outputs": [],
   "source": [
    "def kmeans(points, k, condition, distanceFn=None, preset=None):\n",
    "    if distanceFn is None:\n",
    "        print(\"Error: distance function not defined\")\n",
    "        return\n",
    "    \n",
    "    prevCentroids = np.empty(k)\n",
    "    centroids = np.array([obj.features for obj in np.random.choice(points, k)])\n",
    "    iteration = 0\n",
    "    clusters = None\n",
    "    \n",
    "    converged = has_converged(condition, centroids, prevCentroids, clusters=clusters, iteration=iteration, preset=preset)\n",
    "    while not converged:\n",
    "        iteration += 1\n",
    "        print(iteration)\n",
    "        \n",
    "        # Assign each instance to the current centroids\n",
    "        # and create clusters\n",
    "        clusters = [[] for _ in range(k)]\n",
    "        for point in points:\n",
    "            # find closest centroid to point\n",
    "            minDistance = distanceFn(point.features, centroids[0])\n",
    "            minDistanceIndex = 0\n",
    "            for i in range(1, len(centroids)):\n",
    "                d = distanceFn(point.features, centroids[i])\n",
    "                if d < minDistance:\n",
    "                    minDistance = d\n",
    "                    minDistanceIndex = i\n",
    "            clusters[minDistanceIndex].append(point)\n",
    "        \n",
    "        # Current centroids become previous centroids\n",
    "        prevCentroids = centroids\n",
    "        \n",
    "        # Recompute centroids in accordance with\n",
    "        # the newly computed clusters\n",
    "        NUM_ATTRS = 784\n",
    "        centroids = np.zeros((k, NUM_ATTRS))\n",
    "        for i in range(len(clusters)):\n",
    "            centroid = np.zeros(NUM_ATTRS)\n",
    "            for point in clusters[i]:\n",
    "                centroid += point.features\n",
    "            if len(clusters[i]) > 0:\n",
    "                centroid /= len(clusters[i])\n",
    "            centroids[i] = centroid\n",
    "        converged = has_converged(condition, centroids, prevCentroids, clusters=clusters, iteration=iteration, preset=preset)\n",
    "    result = {\n",
    "        \"clusters\": clusters,\n",
    "        \"centroids\": centroids,\n",
    "        \"sse\": compute_sse(clusters, centroids),\n",
    "        \"accuracy\": get_accuracy(clusters)\n",
    "    }\n",
    "    return result"
   ]
  },
  {
   "cell_type": "code",
   "execution_count": 13,
   "id": "74f3a513",
   "metadata": {},
   "outputs": [
    {
     "name": "stdout",
     "output_type": "stream",
     "text": [
      "euclidean kmeans...\n",
      "condition = preset\n",
      "early termination\n",
      "1\n",
      "condition = preset\n"
     ]
    },
    {
     "ename": "NameError",
     "evalue": "name 'iteration' is not defined",
     "output_type": "error",
     "traceback": [
      "\u001b[0;31m---------------------------------------------------------------------------\u001b[0m",
      "\u001b[0;31mNameError\u001b[0m                                 Traceback (most recent call last)",
      "Cell \u001b[0;32mIn [13], line 2\u001b[0m\n\u001b[1;32m      1\u001b[0m \u001b[38;5;28mprint\u001b[39m(\u001b[38;5;124mf\u001b[39m\u001b[38;5;124m'\u001b[39m\u001b[38;5;124meuclidean kmeans...\u001b[39m\u001b[38;5;124m'\u001b[39m)\n\u001b[0;32m----> 2\u001b[0m result_euclidean \u001b[38;5;241m=\u001b[39m \u001b[43mkmeans\u001b[49m\u001b[43m(\u001b[49m\u001b[43mpoints\u001b[49m\u001b[43m,\u001b[49m\u001b[43m \u001b[49m\u001b[38;5;241;43m10\u001b[39;49m\u001b[43m,\u001b[49m\u001b[43m \u001b[49m\u001b[43mdistanceFn\u001b[49m\u001b[38;5;241;43m=\u001b[39;49m\u001b[43meuclidean_dist\u001b[49m\u001b[43m,\u001b[49m\u001b[43m \u001b[49m\u001b[43mcondition\u001b[49m\u001b[38;5;241;43m=\u001b[39;49m\u001b[38;5;124;43m\"\u001b[39;49m\u001b[38;5;124;43mpreset\u001b[39;49m\u001b[38;5;124;43m\"\u001b[39;49m\u001b[43m,\u001b[49m\u001b[43m \u001b[49m\u001b[43mpreset\u001b[49m\u001b[38;5;241;43m=\u001b[39;49m\u001b[38;5;241;43m2\u001b[39;49m\u001b[43m)\u001b[49m\n\u001b[1;32m      3\u001b[0m \u001b[38;5;28mprint\u001b[39m(\u001b[38;5;124mf\u001b[39m\u001b[38;5;124m'\u001b[39m\u001b[38;5;124meuclidean kmeans sse: \u001b[39m\u001b[38;5;132;01m{\u001b[39;00mresult_euclidean[\u001b[38;5;124m\"\u001b[39m\u001b[38;5;124msse\u001b[39m\u001b[38;5;124m\"\u001b[39m]\u001b[38;5;132;01m}\u001b[39;00m\u001b[38;5;124m'\u001b[39m)\n\u001b[1;32m      4\u001b[0m \u001b[38;5;28mprint\u001b[39m(\u001b[38;5;124mf\u001b[39m\u001b[38;5;124m'\u001b[39m\u001b[38;5;124meuclidean kmeans accuracy: \u001b[39m\u001b[38;5;132;01m{\u001b[39;00mresult_euclidean[\u001b[38;5;124m\"\u001b[39m\u001b[38;5;124maccuracy\u001b[39m\u001b[38;5;124m\"\u001b[39m]\u001b[38;5;132;01m}\u001b[39;00m\u001b[38;5;124m'\u001b[39m)\n",
      "Cell \u001b[0;32mIn [12], line 44\u001b[0m, in \u001b[0;36mkmeans\u001b[0;34m(points, k, condition, distanceFn, preset)\u001b[0m\n\u001b[1;32m     42\u001b[0m             centroid \u001b[38;5;241m/\u001b[39m\u001b[38;5;241m=\u001b[39m \u001b[38;5;28mlen\u001b[39m(clusters[i])\n\u001b[1;32m     43\u001b[0m         centroids[i] \u001b[38;5;241m=\u001b[39m centroid\n\u001b[0;32m---> 44\u001b[0m     converged \u001b[38;5;241m=\u001b[39m \u001b[43mhas_converged\u001b[49m\u001b[43m(\u001b[49m\u001b[43mcondition\u001b[49m\u001b[43m,\u001b[49m\u001b[43m \u001b[49m\u001b[43mcentroids\u001b[49m\u001b[43m,\u001b[49m\u001b[43m \u001b[49m\u001b[43mprevCentroids\u001b[49m\u001b[43m,\u001b[49m\u001b[43m \u001b[49m\u001b[43mclusters\u001b[49m\u001b[38;5;241;43m=\u001b[39;49m\u001b[43mclusters\u001b[49m\u001b[43m,\u001b[49m\u001b[43m \u001b[49m\u001b[43miteration\u001b[49m\u001b[38;5;241;43m=\u001b[39;49m\u001b[43miteration\u001b[49m\u001b[43m,\u001b[49m\u001b[43m \u001b[49m\u001b[43mpreset\u001b[49m\u001b[38;5;241;43m=\u001b[39;49m\u001b[43mpreset\u001b[49m\u001b[43m)\u001b[49m\n\u001b[1;32m     45\u001b[0m result \u001b[38;5;241m=\u001b[39m {\n\u001b[1;32m     46\u001b[0m     \u001b[38;5;124m\"\u001b[39m\u001b[38;5;124mclusters\u001b[39m\u001b[38;5;124m\"\u001b[39m: clusters,\n\u001b[1;32m     47\u001b[0m     \u001b[38;5;124m\"\u001b[39m\u001b[38;5;124mcentroids\u001b[39m\u001b[38;5;124m\"\u001b[39m: centroids,\n\u001b[1;32m     48\u001b[0m     \u001b[38;5;124m\"\u001b[39m\u001b[38;5;124msse\u001b[39m\u001b[38;5;124m\"\u001b[39m: compute_sse(clusters, centroids),\n\u001b[1;32m     49\u001b[0m     \u001b[38;5;124m\"\u001b[39m\u001b[38;5;124maccuracy\u001b[39m\u001b[38;5;124m\"\u001b[39m: get_accuracy(clusters)\n\u001b[1;32m     50\u001b[0m }\n\u001b[1;32m     51\u001b[0m \u001b[38;5;28;01mreturn\u001b[39;00m result\n",
      "Cell \u001b[0;32mIn [9], line 13\u001b[0m, in \u001b[0;36mhas_converged\u001b[0;34m(condition, centroids, prevCentroids, **kwargs)\u001b[0m\n\u001b[1;32m     11\u001b[0m     \u001b[38;5;28;01mreturn\u001b[39;00m compute_sse(clusters, centroids) \u001b[38;5;241m>\u001b[39m compute_sse(clusters, prevCentroids)\n\u001b[1;32m     12\u001b[0m \u001b[38;5;28;01melif\u001b[39;00m condition \u001b[38;5;241m==\u001b[39m \u001b[38;5;124m\"\u001b[39m\u001b[38;5;124mpreset\u001b[39m\u001b[38;5;124m\"\u001b[39m:\n\u001b[0;32m---> 13\u001b[0m     \u001b[38;5;28mprint\u001b[39m(\u001b[38;5;124mf\u001b[39m\u001b[38;5;124m'\u001b[39m\u001b[38;5;124miteration = \u001b[39m\u001b[38;5;132;01m{\u001b[39;00miteration\u001b[38;5;132;01m}\u001b[39;00m\u001b[38;5;124m limit = \u001b[39m\u001b[38;5;132;01m{\u001b[39;00mlimit\u001b[38;5;132;01m}\u001b[39;00m\u001b[38;5;124m'\u001b[39m)\n\u001b[1;32m     14\u001b[0m     \u001b[38;5;28;01mreturn\u001b[39;00m kwargs[\u001b[38;5;124m\"\u001b[39m\u001b[38;5;124miteration\u001b[39m\u001b[38;5;124m\"\u001b[39m] \u001b[38;5;241m>\u001b[39m\u001b[38;5;241m=\u001b[39m kwargs[\u001b[38;5;124m\"\u001b[39m\u001b[38;5;124mpreset\u001b[39m\u001b[38;5;124m\"\u001b[39m]\n\u001b[1;32m     15\u001b[0m \u001b[38;5;28;01melif\u001b[39;00m condition \u001b[38;5;241m==\u001b[39m \u001b[38;5;124m\"\u001b[39m\u001b[38;5;124mall\u001b[39m\u001b[38;5;124m\"\u001b[39m:\n",
      "\u001b[0;31mNameError\u001b[0m: name 'iteration' is not defined"
     ]
    }
   ],
   "source": [
    "print(f'euclidean kmeans...')\n",
    "result_euclidean = kmeans(points, 10, distanceFn=euclidean_dist, condition=\"preset\", preset=2)\n",
    "print(f'euclidean kmeans sse: {result_euclidean[\"sse\"]}')\n",
    "print(f'euclidean kmeans accuracy: {result_euclidean[\"accuracy\"]}')"
   ]
  },
  {
   "cell_type": "code",
   "execution_count": null,
   "id": "27d9ff7d",
   "metadata": {},
   "outputs": [],
   "source": [
    "print(f'cosine kmeans...')\n",
    "result_cosine = kmeans(points, 10, distanceFn=cosine_dist, condition='all')\n",
    "print(f'cosine kmeans sse: {result_cosine[\"sse\"]}')\n",
    "print(f'cosine kmeans accuracy: {result_cosine[\"accuracy\"]}')"
   ]
  },
  {
   "cell_type": "code",
   "execution_count": null,
   "id": "2e6443d4",
   "metadata": {},
   "outputs": [],
   "source": [
    "print(f'jaccard kmeans...')\n",
    "result_jaccard = kmeans(points, 10, distanceFn=jaccard_dist, condition='all')\n",
    "print(f'jaccard kmeans sse: {result_jaccard[\"sse\"]}')\n",
    "print(f'jaccard kmeans accuracy: {result_jaccard[\"accuracy\"]}')"
   ]
  }
 ],
 "metadata": {
  "kernelspec": {
   "display_name": "Python 3 (ipykernel)",
   "language": "python",
   "name": "python3"
  },
  "language_info": {
   "codemirror_mode": {
    "name": "ipython",
    "version": 3
   },
   "file_extension": ".py",
   "mimetype": "text/x-python",
   "name": "python",
   "nbconvert_exporter": "python",
   "pygments_lexer": "ipython3",
   "version": "3.9.2"
  }
 },
 "nbformat": 4,
 "nbformat_minor": 5
}
