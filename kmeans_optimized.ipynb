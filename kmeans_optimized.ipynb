{
 "cells": [
  {
   "cell_type": "code",
   "execution_count": 3,
   "id": "ec362e14",
   "metadata": {},
   "outputs": [],
   "source": [
    "import numpy as np\n",
    "from numpy import genfromtxt\n",
    "from math import sqrt\n",
    "import random\n",
    "import time"
   ]
  },
  {
   "cell_type": "code",
   "execution_count": 4,
   "id": "0e3061fe",
   "metadata": {},
   "outputs": [],
   "source": [
    "dataset = genfromtxt('kmeans_data/data.csv', delimiter=',')\n",
    "labels = genfromtxt('kmeans_data/label.csv', delimiter=',')"
   ]
  },
  {
   "cell_type": "code",
   "execution_count": 5,
   "id": "b05cac31",
   "metadata": {},
   "outputs": [],
   "source": [
    "class Point():\n",
    "    def __init__(self, features, label):\n",
    "        self.features = features\n",
    "        self.label = label"
   ]
  },
  {
   "cell_type": "code",
   "execution_count": 6,
   "id": "5edb01a2",
   "metadata": {},
   "outputs": [],
   "source": [
    "points = np.array([Point(dataset[i], labels[i]) for i in range(len(dataset))])"
   ]
  },
  {
   "cell_type": "code",
   "execution_count": 7,
   "id": "ff936ac3",
   "metadata": {},
   "outputs": [],
   "source": [
    "def euclidean_dist(a, b):\n",
    "    return sqrt(np.sum((a - b) * (a - b)))\n",
    "def cosine_dist(a, b):\n",
    "    num = np.dot(a, b)\n",
    "    denom = sqrt(np.dot(a, a)) * sqrt(np.dot(b, b))\n",
    "    return  1 - (num / denom)\n",
    "def jaccard_dist(a, b):\n",
    "    less = np.sum(a[a <= b]) + np.sum(b[b < a])\n",
    "    more = np.sum(a[a >= b]) + np.sum(b[b > a])\n",
    "    return 1 - (less / more)"
   ]
  },
  {
   "cell_type": "code",
   "execution_count": 8,
   "id": "a341bcaf",
   "metadata": {},
   "outputs": [],
   "source": [
    "def sse_dist(a, b):\n",
    "    return np.sum((a - b) * (a - b))\n",
    "def compute_sse(clusters, centroids):\n",
    "    # Safeguards against the first iteration\n",
    "    if centroids.shape[0] == 0:\n",
    "        return float(\"inf\")\n",
    "    result = 0\n",
    "    for i in range(len(centroids)):\n",
    "        centroid = centroids[i]\n",
    "        cluster = clusters[i]\n",
    "        for point in cluster:\n",
    "            result += sse_dist(point.features, centroid)\n",
    "    return result"
   ]
  },
  {
   "cell_type": "code",
   "execution_count": 9,
   "id": "f3209ce4",
   "metadata": {},
   "outputs": [],
   "source": [
    "def get_accuracy(clusters):\n",
    "    num_correct = 0\n",
    "    total = 0\n",
    "    for cluster in clusters:\n",
    "        total += len(cluster)\n",
    "        freq = {}\n",
    "        for point in cluster:\n",
    "            if point.label not in freq:\n",
    "                freq[point.label] = 1\n",
    "            else:\n",
    "                freq[point.label] += 1\n",
    "        max_freq = 0\n",
    "        for key in freq.keys():\n",
    "            max_freq = max(max_freq, freq[key])\n",
    "        num_correct += max_freq\n",
    "    return num_correct / total"
   ]
  },
  {
   "cell_type": "code",
   "execution_count": 10,
   "id": "9cecb3dd",
   "metadata": {},
   "outputs": [],
   "source": [
    "def converged(condition, centroids, prevCentroids, **kwargs):\n",
    "    verbose = kwargs[\"verbose\"]\n",
    "    # skips the first iteration\n",
    "    if kwargs[\"iteration\"] == 1:\n",
    "        if verbose:\n",
    "            print('First Iteration')\n",
    "        return False\n",
    "    elif condition == \"no_change\":\n",
    "        return np.array_equal(prevCentroids, centroids)\n",
    "    elif condition == \"sse_increased\":\n",
    "        clusters = kwargs[\"clusters\"]\n",
    "        return compute_sse(clusters, centroids) > compute_sse(clusters, prevCentroids)\n",
    "    elif condition == \"preset\":\n",
    "        return kwargs[\"iteration\"] >= kwargs[\"preset\"]\n",
    "    elif condition == \"all\":\n",
    "        no_change = np.array_equal(prevCentroids, centroids)\n",
    "        if no_change:\n",
    "            if verbose:\n",
    "                print('No change in centroids')\n",
    "            return True\n",
    "        clusters = kwargs[\"clusters\"]\n",
    "        if clusters is not None:\n",
    "            sse_increased = compute_sse(clusters, centroids) > compute_sse(clusters, prevCentroids)\n",
    "            if sse_increased:\n",
    "                if verbose:\n",
    "                    print('SSE has increased')\n",
    "                return True\n",
    "        preset = (kwargs[\"iteration\"] >= kwargs[\"preset\"])\n",
    "        if preset:\n",
    "            if verbose:\n",
    "                print('Preset iteration limit exceeded')\n",
    "            return True\n",
    "        return False"
   ]
  },
  {
   "cell_type": "code",
   "execution_count": 11,
   "id": "d11d7cb4",
   "metadata": {},
   "outputs": [],
   "source": [
    "def kmeans(points, k, condition, distanceFn=None, preset=None, verbose=False):\n",
    "    start_time = time.time()\n",
    "\n",
    "    if distanceFn is None:\n",
    "        print(\"Error: distance function not defined\")\n",
    "        return\n",
    "    \n",
    "    prevCentroids = np.empty(k)\n",
    "    centroids = np.array([obj.features for obj in np.random.choice(points, k)])\n",
    "    iteration = 1\n",
    "    clusters = None\n",
    "    \n",
    "    while not converged(condition, centroids, prevCentroids, clusters=clusters, iteration=iteration, preset=preset, verbose=verbose):\n",
    "        iteration += 1\n",
    "        if verbose:\n",
    "            print(iteration)\n",
    "        \n",
    "        # Assign each instance to the current centroids\n",
    "        # and create clusters\n",
    "        clusters = [[] for _ in range(k)]\n",
    "        for point in points:\n",
    "            # find closest centroid to point\n",
    "            minDistance = distanceFn(point.features, centroids[0])\n",
    "            minDistanceIndex = 0\n",
    "            for i in range(1, len(centroids)):\n",
    "                d = distanceFn(point.features, centroids[i])\n",
    "                if d < minDistance:\n",
    "                    minDistance = d\n",
    "                    minDistanceIndex = i\n",
    "            clusters[minDistanceIndex].append(point)\n",
    "        \n",
    "        # Current centroids become previous centroids\n",
    "        prevCentroids = centroids\n",
    "        \n",
    "        # Recompute centroids in accordance with\n",
    "        # the newly computed clusters\n",
    "        NUM_ATTRS = 784\n",
    "        centroids = np.zeros((k, NUM_ATTRS))\n",
    "        for i in range(len(clusters)):\n",
    "            centroid = np.zeros(NUM_ATTRS)\n",
    "            for point in clusters[i]:\n",
    "                centroid += point.features\n",
    "            if len(clusters[i]) > 0:\n",
    "                centroid /= len(clusters[i])\n",
    "            centroids[i] = centroid\n",
    "\n",
    "    end_time = time.time()\n",
    "    result = {\n",
    "        \"clusters\": clusters,\n",
    "        \"centroids\": centroids,\n",
    "        \"sse\": compute_sse(clusters, centroids),\n",
    "        \"accuracy\": get_accuracy(clusters),\n",
    "        \"num_iterations\": iteration,\n",
    "        \"time_elapsed\": end_time - start_time\n",
    "    }\n",
    "    return result"
   ]
  },
  {
   "cell_type": "code",
   "execution_count": 12,
   "id": "765671cd",
   "metadata": {},
   "outputs": [],
   "source": [
    "def repeat_kmeans(num_iterations, points, k, condition, distanceFn=None, preset=None, verbose=False):\n",
    "    sse_vals = np.empty(num_iterations)\n",
    "    accuracy_vals = np.empty(num_iterations)\n",
    "    iteration_vals = np.empty(num_iterations)\n",
    "    time_vals = np.empty(num_iterations)\n",
    "    for i in range(num_iterations):\n",
    "        print(f'kmeans call #{i+1}')\n",
    "        result = kmeans(points, k, condition, distanceFn, preset, verbose)\n",
    "        sse_vals[i] = result[\"sse\"]\n",
    "        accuracy_vals[i] = result[\"accuracy\"]\n",
    "        iteration_vals[i] = result[\"num_iterations\"]\n",
    "        time_vals[i] = result[\"time_elapsed\"]\n",
    "    accuracy_vals *= 100\n",
    "    print(f'Average SSE: {sse_vals.mean()}')\n",
    "    print(f'Average Accuracy: {accuracy_vals.mean()}')\n",
    "    print(f'Average # of iterations: {iteration_vals.mean()}')\n",
    "    print(f'Average time elapsed: {time_vals.mean()} seconds')"
   ]
  },
  {
   "cell_type": "code",
   "execution_count": 13,
   "id": "74f3a513",
   "metadata": {},
   "outputs": [
    {
     "name": "stdout",
     "output_type": "stream",
     "text": [
      "Euclidean kmeans...\n",
      "euclidean kmeans sse: 25465664473.15075\n",
      "euclidean kmeans accuracy: 0.634\n"
     ]
    }
   ],
   "source": [
    "print(f'Euclidean kmeans...')\n",
    "result_euclidean = kmeans(points, 10, distanceFn=euclidean_dist, condition='no_change')\n",
    "print(f'euclidean kmeans sse: {result_euclidean[\"sse\"]}')\n",
    "print(f'euclidean kmeans accuracy: {result_euclidean[\"accuracy\"]}')"
   ]
  },
  {
   "cell_type": "code",
   "execution_count": 14,
   "id": "27d9ff7d",
   "metadata": {},
   "outputs": [
    {
     "name": "stdout",
     "output_type": "stream",
     "text": [
      "Cosine kmeans...\n",
      "Cosine kmeans sse: 25425779753.475048\n",
      "Cosine kmeans accuracy: 0.6293\n"
     ]
    }
   ],
   "source": [
    "print(f'Cosine kmeans...')\n",
    "result_cosine = kmeans(points, 10, distanceFn=cosine_dist, condition='no_change')\n",
    "print(f'Cosine kmeans sse: {result_cosine[\"sse\"]}')\n",
    "print(f'Cosine kmeans accuracy: {result_cosine[\"accuracy\"]}')"
   ]
  },
  {
   "cell_type": "code",
   "execution_count": 15,
   "id": "2e6443d4",
   "metadata": {},
   "outputs": [
    {
     "name": "stdout",
     "output_type": "stream",
     "text": [
      "Jaccard kmeans...\n",
      "Jaccard kmeans sse: 25414570552.13181\n",
      "Jaccard kmeans accuracy: 0.602\n"
     ]
    }
   ],
   "source": [
    "print(f'Jaccard kmeans...')\n",
    "result_jaccard = kmeans(points, 10, distanceFn=jaccard_dist, condition='no_change')\n",
    "print(f'Jaccard kmeans sse: {result_jaccard[\"sse\"]}')\n",
    "print(f'Jaccard kmeans accuracy: {result_jaccard[\"accuracy\"]}')"
   ]
  },
  {
   "cell_type": "code",
   "execution_count": 16,
   "id": "e7c057e4",
   "metadata": {},
   "outputs": [
    {
     "name": "stdout",
     "output_type": "stream",
     "text": [
      "Euclidean kmeans over 5 iterations\n",
      "kmeans call #1\n",
      "kmeans call #2\n",
      "kmeans call #3\n",
      "kmeans call #4\n",
      "kmeans call #5\n",
      "Average SSE: 25469720347.17402\n",
      "Average Accuracy: 57.712\n",
      "Average # of iterations: 47.2\n",
      "Average time elapsed: 24.425521564483642 seconds\n"
     ]
    }
   ],
   "source": [
    "num_iterations = 5\n",
    "print(f'Euclidean kmeans over {num_iterations} iterations')\n",
    "result_euclidean = repeat_kmeans(num_iterations, points, 10, distanceFn=euclidean_dist, condition=\"all\", preset=50, verbose=False)"
   ]
  },
  {
   "cell_type": "code",
   "execution_count": 17,
   "id": "4daebf47",
   "metadata": {},
   "outputs": [
    {
     "name": "stdout",
     "output_type": "stream",
     "text": [
      "Cosine kmeans over 5 iterations\n",
      "kmeans call #1\n",
      "kmeans call #2\n",
      "kmeans call #3\n",
      "kmeans call #4\n",
      "kmeans call #5\n",
      "Average SSE: 25503593853.237324\n",
      "Average Accuracy: 60.65599999999999\n",
      "Average # of iterations: 49.2\n",
      "Average time elapsed: 17.390534257888795 seconds\n"
     ]
    }
   ],
   "source": [
    "num_iterations = 5\n",
    "print(f'Cosine kmeans over {num_iterations} iterations')\n",
    "result_cosine = repeat_kmeans(num_iterations, points, 10, distanceFn=cosine_dist, condition=\"all\", preset=50, verbose=False)"
   ]
  },
  {
   "cell_type": "code",
   "execution_count": 18,
   "id": "c9f59c47",
   "metadata": {},
   "outputs": [
    {
     "name": "stdout",
     "output_type": "stream",
     "text": [
      "Jaccard kmeans over 5 iteartions\n",
      "kmeans call #1\n",
      "kmeans call #2\n",
      "kmeans call #3\n",
      "kmeans call #4\n",
      "kmeans call #5\n",
      "Average SSE: 25493640721.710945\n",
      "Average Accuracy: 58.767999999999994\n",
      "Average # of iterations: 50.0\n",
      "Average time elapsed: 93.97007846832275 seconds\n"
     ]
    }
   ],
   "source": [
    "num_iterations = 5\n",
    "print(f'Jaccard kmeans over {num_iterations} iteartions')\n",
    "result_jaccard = repeat_kmeans(num_iterations, points, 10, distanceFn=jaccard_dist, condition=\"all\", preset=50, verbose=False)"
   ]
  }
 ],
 "metadata": {
  "kernelspec": {
   "display_name": "Python 3 (ipykernel)",
   "language": "python",
   "name": "python3"
  },
  "language_info": {
   "codemirror_mode": {
    "name": "ipython",
    "version": 3
   },
   "file_extension": ".py",
   "mimetype": "text/x-python",
   "name": "python",
   "nbconvert_exporter": "python",
   "pygments_lexer": "ipython3",
   "version": "3.9.2"
  },
  "vscode": {
   "interpreter": {
    "hash": "1b2653f79697d7d1aabdb459f3efac5dbf4ca1516423401d467bf619806fd145"
   }
  }
 },
 "nbformat": 4,
 "nbformat_minor": 5
}
